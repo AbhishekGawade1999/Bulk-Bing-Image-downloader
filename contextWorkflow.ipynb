{
  "nbformat": 4,
  "nbformat_minor": 0,
  "metadata": {
    "colab": {
      "provenance": [],
      "authorship_tag": "ABX9TyMNcyZkO4+7KrCNWPvCcsRr",
      "include_colab_link": true
    },
    "kernelspec": {
      "name": "python3",
      "display_name": "Python 3"
    },
    "language_info": {
      "name": "python"
    }
  },
  "cells": [
    {
      "cell_type": "markdown",
      "metadata": {
        "id": "view-in-github",
        "colab_type": "text"
      },
      "source": [
        "<a href=\"https://colab.research.google.com/github/AbhishekGawade1999/Bulk-Bing-Image-downloader/blob/master/contextWorkflow.ipynb\" target=\"_parent\"><img src=\"https://colab.research.google.com/assets/colab-badge.svg\" alt=\"Open In Colab\"/></a>"
      ]
    },
    {
      "cell_type": "code",
      "execution_count": 22,
      "metadata": {
        "colab": {
          "base_uri": "https://localhost:8080/"
        },
        "id": "h0KJ-23AyGnH",
        "outputId": "30cd0157-788a-4571-ae68-c0170300c4ff"
      },
      "outputs": [
        {
          "output_type": "stream",
          "name": "stdout",
          "text": [
            "{'Input': 'Interview goal, target user context', 'SystemPrompt2': 'If no interview goal is given, then understand the phase of startup from context and assume best suitable interview goal.', 'Test': 'Test'}\n",
            "{'Input': 'Problem description, key benefit of solution', 'SystemPrompt2': nan, 'Test': nan}\n",
            "{'Input': 'Product idea + guessed specific user segment', 'SystemPrompt2': nan, 'Test': 'Test'}\n",
            "{'Input': 'Platform’s user roles + assumption on reluctant group', 'SystemPrompt2': nan, 'Test': nan}\n",
            "{'Input': 'Imagined or early-encountered potential user profile', 'SystemPrompt2': nan, 'Test': nan}\n",
            "{'Input': 'Target market region + known cultural values', 'SystemPrompt2': nan, 'Test': 'Test'}\n",
            "{'Input': 'Broad categories of possible users + adoption assumptions', 'SystemPrompt2': nan, 'Test': nan}\n",
            "{'Input': 'Product idea + one niche community or locality', 'SystemPrompt2': nan, 'Test': 'Test'}\n",
            "{'Input': 'Problem description, rough target user type, simple online research of industry size/similar products', 'SystemPrompt2': 'Whatever can’t be inferred from provide context, do online research. Use data obtained by online search only. DO NOT assume any data.', 'Test': nan}\n",
            "{'Input': 'Initial target city/region, early customer conversation insights (5-10 people), realistic timeframe assumption (1-3 years)', 'SystemPrompt2': nan, 'Test': 'Test'}\n",
            "{'Input': 'Founder’s location/network, language capabilities, basic research on regional differences, initial customer location patterns', 'SystemPrompt2': 'For basic research on regional differences, do it on your own.', 'Test': nan}\n",
            "{'Input': 'Simple competitor identification through online search, basic observation of similar solutions, rough competitor customer estimates', 'SystemPrompt2': 'Whatever can’t be inferred from provide context, do online research. Use data obtained by online search only. DO NOT assume any data.', 'Test': nan}\n",
            "{'Input': 'Calculated SOM estimate, founder’s available time/money, basic understanding of customer acquisition effort needed', 'SystemPrompt2': 'Whatever can’t be inferred from provide context, do online research. Use data obtained by online search only. DO NOT assume any data.', 'Test': nan}\n",
            "{'Input': 'TAM/SAM/SOM calculations, founder’s growth ambitions, simple benchmark research on similar startup funding patterns', 'SystemPrompt2': 'Whatever can’t be inferred from provide context, do online research. Use data obtained by online search only. DO NOT assume any data.', 'Test': 'Test'}\n",
            "{'Input': 'Founder’s optimistic assumptions, basic competitor research, simple customer feedback that contradicts assumptions', 'SystemPrompt2': 'Whatever can’t be inferred from provide context, do online research. Use data obtained by online search only. DO NOT assume any data.', 'Test': nan}\n",
            "{'Input': 'SOM calculation, founder’s network/capabilities, initial customer segment preferences, basic channel assumptions', 'SystemPrompt2': 'Whatever can’t be inferred from provide context, do online research. Use data obtained by online search only. DO NOT assume any data.', 'Test': nan}\n",
            "{'Input': 'SOM target, founder’s capacity constraints, simple assumptions about growth rate based on similar products', 'SystemPrompt2': 'Whatever can’t be inferred from provide context, do online research. Use data obtained by online search only. DO NOT assume any data.', 'Test': nan}\n",
            "{'Input': 'Product concept, founder’s intuition about potential users', 'SystemPrompt2': nan, 'Test': nan}\n",
            "{'Input': 'Informal profile of a typical user', 'SystemPrompt2': nan, 'Test': 'Test'}\n",
            "{'Input': 'Knowledge of places/media the target group uses', 'SystemPrompt2': nan, 'Test': nan}\n",
            "{'Input': 'Founder’s available time/commitment', 'SystemPrompt2': nan, 'Test': nan}\n",
            "{'Input': 'Awareness of available free/cheap channels', 'SystemPrompt2': nan, 'Test': 'Test'}\n",
            "{'Input': 'Founder’s domain or idea context', 'SystemPrompt2': nan, 'Test': nan}\n",
            "{'Input': 'Startup concept and target problem', 'SystemPrompt2': nan, 'Test': nan}\n"
          ]
        }
      ],
      "source": [
        "import pandas as pd\n",
        "\n",
        "# Read the header row\n",
        "header_df = pd.read_csv('inputPrompts2.csv', nrows=1, header=None)\n",
        "headers = header_df.iloc[0].tolist()\n",
        "\n",
        "# Read the data rows, skipping the header\n",
        "data_df = pd.read_csv('inputPrompts2.csv', skiprows=1, header=None)\n",
        "\n",
        "# Convert data to a list of dictionaries with headers as keys\n",
        "processed_data = []\n",
        "for index, row in data_df.iterrows():\n",
        "    row_dict = {}\n",
        "    for i, value in enumerate(row):\n",
        "        # Use header value as key, handle potential missing headers if necessary\n",
        "        if i < len(headers):\n",
        "            key = headers[i]\n",
        "            row_dict[key] = value\n",
        "        else:\n",
        "            # Handle cases where a row might have more columns than headers\n",
        "            row_dict[f'Column_{i}'] = value # Or handle as appropriate\n",
        "    processed_data.append(row_dict)\n",
        "\n",
        "# Print the processed data\n",
        "for row_dict in processed_data:\n",
        "    print(row_dict)"
      ]
    },
    {
      "cell_type": "code",
      "source": [
        "import pandas as pd\n",
        "\n",
        "def get_csv_data(csv_file):\n",
        "    return pd.read_csv(csv_file).to_dict('records')\n",
        "\n",
        "# Usage:\n",
        "# data = get_csv_data('inputPrompts2.csv')\n",
        "\n",
        "for row_dict in data:\n",
        "    print(row_dict)\n",
        "\n",
        "# print(\"==============\")\n",
        "# print(processed_data[4]['Input'])"
      ],
      "metadata": {
        "colab": {
          "base_uri": "https://localhost:8080/"
        },
        "id": "izHWfMJI34XR",
        "outputId": "22ece31e-e13e-45f5-e0b5-341500054782"
      },
      "execution_count": 29,
      "outputs": [
        {
          "output_type": "stream",
          "name": "stdout",
          "text": [
            "{'Input': 'Interview goal, target user context', 'SystemPrompt2': 'If no interview goal is given, then understand the phase of startup from context and assume best suitable interview goal.', 'Test': 'Test'}\n",
            "{'Input': 'Problem description, key benefit of solution', 'SystemPrompt2': nan, 'Test': nan}\n",
            "{'Input': 'Product idea + guessed specific user segment', 'SystemPrompt2': nan, 'Test': 'Test'}\n",
            "{'Input': 'Platform’s user roles + assumption on reluctant group', 'SystemPrompt2': nan, 'Test': nan}\n",
            "{'Input': 'Imagined or early-encountered potential user profile', 'SystemPrompt2': nan, 'Test': nan}\n",
            "{'Input': 'Target market region + known cultural values', 'SystemPrompt2': nan, 'Test': 'Test'}\n",
            "{'Input': 'Broad categories of possible users + adoption assumptions', 'SystemPrompt2': nan, 'Test': nan}\n",
            "{'Input': 'Product idea + one niche community or locality', 'SystemPrompt2': nan, 'Test': 'Test'}\n",
            "{'Input': 'Problem description, rough target user type, simple online research of industry size/similar products', 'SystemPrompt2': 'Whatever can’t be inferred from provide context, do online research. Use data obtained by online search only. DO NOT assume any data.', 'Test': nan}\n",
            "{'Input': 'Initial target city/region, early customer conversation insights (5-10 people), realistic timeframe assumption (1-3 years)', 'SystemPrompt2': nan, 'Test': 'Test'}\n",
            "{'Input': 'Founder’s location/network, language capabilities, basic research on regional differences, initial customer location patterns', 'SystemPrompt2': 'For basic research on regional differences, do it on your own.', 'Test': nan}\n",
            "{'Input': 'Simple competitor identification through online search, basic observation of similar solutions, rough competitor customer estimates', 'SystemPrompt2': 'Whatever can’t be inferred from provide context, do online research. Use data obtained by online search only. DO NOT assume any data.', 'Test': nan}\n",
            "{'Input': 'Calculated SOM estimate, founder’s available time/money, basic understanding of customer acquisition effort needed', 'SystemPrompt2': 'Whatever can’t be inferred from provide context, do online research. Use data obtained by online search only. DO NOT assume any data.', 'Test': nan}\n",
            "{'Input': 'TAM/SAM/SOM calculations, founder’s growth ambitions, simple benchmark research on similar startup funding patterns', 'SystemPrompt2': 'Whatever can’t be inferred from provide context, do online research. Use data obtained by online search only. DO NOT assume any data.', 'Test': 'Test'}\n",
            "{'Input': 'Founder’s optimistic assumptions, basic competitor research, simple customer feedback that contradicts assumptions', 'SystemPrompt2': 'Whatever can’t be inferred from provide context, do online research. Use data obtained by online search only. DO NOT assume any data.', 'Test': nan}\n",
            "{'Input': 'SOM calculation, founder’s network/capabilities, initial customer segment preferences, basic channel assumptions', 'SystemPrompt2': 'Whatever can’t be inferred from provide context, do online research. Use data obtained by online search only. DO NOT assume any data.', 'Test': nan}\n",
            "{'Input': 'SOM target, founder’s capacity constraints, simple assumptions about growth rate based on similar products', 'SystemPrompt2': 'Whatever can’t be inferred from provide context, do online research. Use data obtained by online search only. DO NOT assume any data.', 'Test': nan}\n",
            "{'Input': 'Product concept, founder’s intuition about potential users', 'SystemPrompt2': nan, 'Test': nan}\n",
            "{'Input': 'Informal profile of a typical user', 'SystemPrompt2': nan, 'Test': 'Test'}\n",
            "{'Input': 'Knowledge of places/media the target group uses', 'SystemPrompt2': nan, 'Test': nan}\n",
            "{'Input': 'Founder’s available time/commitment', 'SystemPrompt2': nan, 'Test': nan}\n",
            "{'Input': 'Awareness of available free/cheap channels', 'SystemPrompt2': nan, 'Test': 'Test'}\n",
            "{'Input': 'Founder’s domain or idea context', 'SystemPrompt2': nan, 'Test': nan}\n",
            "{'Input': 'Startup concept and target problem', 'SystemPrompt2': nan, 'Test': nan}\n"
          ]
        }
      ]
    }
  ]
}